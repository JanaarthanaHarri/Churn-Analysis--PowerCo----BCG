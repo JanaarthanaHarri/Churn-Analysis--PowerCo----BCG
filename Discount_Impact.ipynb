{
  "cells": [
    {
      "cell_type": "markdown",
      "metadata": {
        "id": "6-CuDMUxg7kp"
      },
      "source": [
        "# Business Impact of Discoount\n",
        "We conduct a brief analysis of the strategy that the SME division head proposed. This is not necessarily the optimal strategy.<br>\n",
        "The SME division head proposed that we give a 20% discount to high propensity-to-churn customers. We can assume to start that everyone who is offered a discount will accept it.\n"
      ]
    },
    {
      "cell_type": "code",
      "source": [
        "from google.colab import drive\n",
        "drive.mount('/content/drive')"
      ],
      "metadata": {
        "colab": {
          "base_uri": "https://localhost:8080/"
        },
        "id": "3W4F7RTpg-9z",
        "outputId": "7d9955f2-b8d2-4924-a1d5-f215254bd8c5"
      },
      "execution_count": 1,
      "outputs": [
        {
          "output_type": "stream",
          "name": "stdout",
          "text": [
            "Mounted at /content/drive\n"
          ]
        }
      ]
    },
    {
      "cell_type": "markdown",
      "metadata": {
        "id": "uetZk52og7kv"
      },
      "source": [
        "## General Workflow\n",
        "Our task is to calculate the forecast revenue of the set of customers:\n",
        "1. When no discount is offered, and\n",
        "2. Whena discount is offered based on some probability cut-off to decide who should receive a discount 20%\n",
        "... and therefore decide where the cut-off should be set so as to maximise revenue.\n",
        "\n",
        "Do the following:\n"
      ]
    },
    {
      "cell_type": "markdown",
      "metadata": {
        "id": "z7dU37Axg7kw"
      },
      "source": [
        "### Load the data \n",
        "- Load the pickle file of out-of-sample predictions from the best model\n",
        "- Sort the predictions by predicted probability of churn in descending order (ie, highest predicted probability of churn customers first)"
      ]
    },
    {
      "cell_type": "code",
      "execution_count": 2,
      "metadata": {
        "id": "aSEcyR8rg7ky"
      },
      "outputs": [],
      "source": [
        "# imports\n",
        "import pandas as pd\n",
        "import numpy as np\n",
        "import matplotlib.pyplot as plt\n"
      ]
    },
    {
      "cell_type": "code",
      "execution_count": 3,
      "metadata": {
        "id": "p_BsOMrBg7k1"
      },
      "outputs": [],
      "source": [
        "# load data\n",
        "predictions = pd.read_pickle('/content/drive/MyDrive/Forage/BCG-customer-churn/processed_data/xgb_outOfSamplePredictions.pkl')\n"
      ]
    },
    {
      "cell_type": "code",
      "execution_count": 4,
      "metadata": {
        "colab": {
          "base_uri": "https://localhost:8080/",
          "height": 270
        },
        "id": "FqFMuzCIg7k2",
        "outputId": "8137bc96-a8a1-4765-e051-70617fd9efc0"
      },
      "outputs": [
        {
          "output_type": "execute_result",
          "data": {
            "text/html": [
              "\n",
              "  <div id=\"df-51e4bea4-0f44-421a-a623-408e23ecd614\">\n",
              "    <div class=\"colab-df-container\">\n",
              "      <div>\n",
              "<style scoped>\n",
              "    .dataframe tbody tr th:only-of-type {\n",
              "        vertical-align: middle;\n",
              "    }\n",
              "\n",
              "    .dataframe tbody tr th {\n",
              "        vertical-align: top;\n",
              "    }\n",
              "\n",
              "    .dataframe thead th {\n",
              "        text-align: right;\n",
              "    }\n",
              "</style>\n",
              "<table border=\"1\" class=\"dataframe\">\n",
              "  <thead>\n",
              "    <tr style=\"text-align: right;\">\n",
              "      <th></th>\n",
              "      <th>cons_12m</th>\n",
              "      <th>cons_gas_12m</th>\n",
              "      <th>cons_last_month</th>\n",
              "      <th>forecast_cons_12m</th>\n",
              "      <th>forecast_discount_energy</th>\n",
              "      <th>forecast_meter_rent_12m</th>\n",
              "      <th>forecast_price_energy_p1</th>\n",
              "      <th>forecast_price_energy_p2</th>\n",
              "      <th>forecast_price_pow_p1</th>\n",
              "      <th>has_gas</th>\n",
              "      <th>imp_cons</th>\n",
              "      <th>margin_gross_pow_ele</th>\n",
              "      <th>margin_net_pow_ele</th>\n",
              "      <th>nb_prod_act</th>\n",
              "      <th>net_margin</th>\n",
              "      <th>pow_max</th>\n",
              "      <th>tenure</th>\n",
              "      <th>months_activ</th>\n",
              "      <th>months_to_end</th>\n",
              "      <th>months_modif_prod</th>\n",
              "      <th>months_renewal</th>\n",
              "      <th>channel_epu</th>\n",
              "      <th>channel_ewp</th>\n",
              "      <th>channel_fix</th>\n",
              "      <th>channel_foo</th>\n",
              "      <th>channel_lmk</th>\n",
              "      <th>channel_sdd</th>\n",
              "      <th>channel_usi</th>\n",
              "      <th>origin_ewx</th>\n",
              "      <th>origin_kam</th>\n",
              "      <th>origin_ldk</th>\n",
              "      <th>origin_lxi</th>\n",
              "      <th>origin_usa</th>\n",
              "      <th>activity_apd</th>\n",
              "      <th>activity_ckf</th>\n",
              "      <th>activity_clu</th>\n",
              "      <th>activity_cwo</th>\n",
              "      <th>activity_fmw</th>\n",
              "      <th>activity_kkk</th>\n",
              "      <th>activity_kwu</th>\n",
              "      <th>activity_sfi</th>\n",
              "      <th>activity_wxe</th>\n",
              "      <th>mean_year_price_p1_var</th>\n",
              "      <th>mean_year_price_p2_var</th>\n",
              "      <th>mean_year_price_p3_var</th>\n",
              "      <th>mean_year_price_p1_fix</th>\n",
              "      <th>mean_year_price_p2_fix</th>\n",
              "      <th>mean_year_price_p3_fix</th>\n",
              "      <th>mean_year_price_p1</th>\n",
              "      <th>mean_year_price_p2</th>\n",
              "      <th>mean_year_price_p3</th>\n",
              "      <th>y_test_pred</th>\n",
              "      <th>y_test</th>\n",
              "    </tr>\n",
              "  </thead>\n",
              "  <tbody>\n",
              "    <tr>\n",
              "      <th>5871</th>\n",
              "      <td>5.472865</td>\n",
              "      <td>5.225325</td>\n",
              "      <td>4.229528</td>\n",
              "      <td>3.270241</td>\n",
              "      <td>0.0</td>\n",
              "      <td>1.811240</td>\n",
              "      <td>0.145711</td>\n",
              "      <td>0.000000</td>\n",
              "      <td>44.311378</td>\n",
              "      <td>1</td>\n",
              "      <td>1.522705</td>\n",
              "      <td>27.14</td>\n",
              "      <td>27.14</td>\n",
              "      <td>2</td>\n",
              "      <td>168.10</td>\n",
              "      <td>13.2</td>\n",
              "      <td>6</td>\n",
              "      <td>69.0</td>\n",
              "      <td>2.0</td>\n",
              "      <td>69.0</td>\n",
              "      <td>9.0</td>\n",
              "      <td>0</td>\n",
              "      <td>0</td>\n",
              "      <td>0</td>\n",
              "      <td>0</td>\n",
              "      <td>1</td>\n",
              "      <td>0</td>\n",
              "      <td>0</td>\n",
              "      <td>0</td>\n",
              "      <td>1</td>\n",
              "      <td>0</td>\n",
              "      <td>0</td>\n",
              "      <td>0</td>\n",
              "      <td>1</td>\n",
              "      <td>0</td>\n",
              "      <td>0</td>\n",
              "      <td>0</td>\n",
              "      <td>0</td>\n",
              "      <td>0</td>\n",
              "      <td>0</td>\n",
              "      <td>0</td>\n",
              "      <td>0</td>\n",
              "      <td>0.150471</td>\n",
              "      <td>0.000000</td>\n",
              "      <td>0.000000</td>\n",
              "      <td>44.400265</td>\n",
              "      <td>0.000000</td>\n",
              "      <td>0.000000</td>\n",
              "      <td>44.550736</td>\n",
              "      <td>0.000000</td>\n",
              "      <td>0.000000</td>\n",
              "      <td>0.027380</td>\n",
              "      <td>0</td>\n",
              "    </tr>\n",
              "    <tr>\n",
              "      <th>6997</th>\n",
              "      <td>5.268058</td>\n",
              "      <td>0.000000</td>\n",
              "      <td>4.067220</td>\n",
              "      <td>4.152069</td>\n",
              "      <td>0.0</td>\n",
              "      <td>2.115976</td>\n",
              "      <td>0.110955</td>\n",
              "      <td>0.095842</td>\n",
              "      <td>40.606701</td>\n",
              "      <td>0</td>\n",
              "      <td>3.019723</td>\n",
              "      <td>-8.31</td>\n",
              "      <td>-8.31</td>\n",
              "      <td>1</td>\n",
              "      <td>1124.18</td>\n",
              "      <td>45.0</td>\n",
              "      <td>4</td>\n",
              "      <td>37.0</td>\n",
              "      <td>10.0</td>\n",
              "      <td>37.0</td>\n",
              "      <td>1.0</td>\n",
              "      <td>0</td>\n",
              "      <td>0</td>\n",
              "      <td>0</td>\n",
              "      <td>1</td>\n",
              "      <td>0</td>\n",
              "      <td>0</td>\n",
              "      <td>0</td>\n",
              "      <td>0</td>\n",
              "      <td>0</td>\n",
              "      <td>0</td>\n",
              "      <td>1</td>\n",
              "      <td>0</td>\n",
              "      <td>0</td>\n",
              "      <td>0</td>\n",
              "      <td>0</td>\n",
              "      <td>0</td>\n",
              "      <td>0</td>\n",
              "      <td>0</td>\n",
              "      <td>0</td>\n",
              "      <td>0</td>\n",
              "      <td>0</td>\n",
              "      <td>0.121060</td>\n",
              "      <td>0.100728</td>\n",
              "      <td>0.070521</td>\n",
              "      <td>40.579547</td>\n",
              "      <td>24.347725</td>\n",
              "      <td>16.231816</td>\n",
              "      <td>40.700608</td>\n",
              "      <td>24.448453</td>\n",
              "      <td>16.302337</td>\n",
              "      <td>0.072887</td>\n",
              "      <td>0</td>\n",
              "    </tr>\n",
              "    <tr>\n",
              "      <th>1516</th>\n",
              "      <td>4.218850</td>\n",
              "      <td>0.000000</td>\n",
              "      <td>3.333850</td>\n",
              "      <td>3.131567</td>\n",
              "      <td>0.0</td>\n",
              "      <td>2.120640</td>\n",
              "      <td>0.112860</td>\n",
              "      <td>0.096521</td>\n",
              "      <td>40.606701</td>\n",
              "      <td>0</td>\n",
              "      <td>2.215770</td>\n",
              "      <td>20.17</td>\n",
              "      <td>20.17</td>\n",
              "      <td>1</td>\n",
              "      <td>138.43</td>\n",
              "      <td>19.0</td>\n",
              "      <td>3</td>\n",
              "      <td>34.0</td>\n",
              "      <td>6.0</td>\n",
              "      <td>17.0</td>\n",
              "      <td>5.0</td>\n",
              "      <td>0</td>\n",
              "      <td>0</td>\n",
              "      <td>0</td>\n",
              "      <td>1</td>\n",
              "      <td>0</td>\n",
              "      <td>0</td>\n",
              "      <td>0</td>\n",
              "      <td>0</td>\n",
              "      <td>0</td>\n",
              "      <td>0</td>\n",
              "      <td>1</td>\n",
              "      <td>0</td>\n",
              "      <td>0</td>\n",
              "      <td>0</td>\n",
              "      <td>0</td>\n",
              "      <td>0</td>\n",
              "      <td>0</td>\n",
              "      <td>0</td>\n",
              "      <td>0</td>\n",
              "      <td>0</td>\n",
              "      <td>0</td>\n",
              "      <td>0.119572</td>\n",
              "      <td>0.099106</td>\n",
              "      <td>0.069847</td>\n",
              "      <td>40.647427</td>\n",
              "      <td>24.388455</td>\n",
              "      <td>16.258971</td>\n",
              "      <td>40.767000</td>\n",
              "      <td>24.487562</td>\n",
              "      <td>16.328818</td>\n",
              "      <td>0.114987</td>\n",
              "      <td>0</td>\n",
              "    </tr>\n",
              "    <tr>\n",
              "      <th>11616</th>\n",
              "      <td>4.302374</td>\n",
              "      <td>0.000000</td>\n",
              "      <td>0.000000</td>\n",
              "      <td>3.474324</td>\n",
              "      <td>0.0</td>\n",
              "      <td>1.287130</td>\n",
              "      <td>0.144149</td>\n",
              "      <td>0.000000</td>\n",
              "      <td>44.311378</td>\n",
              "      <td>0</td>\n",
              "      <td>0.000000</td>\n",
              "      <td>25.72</td>\n",
              "      <td>25.72</td>\n",
              "      <td>1</td>\n",
              "      <td>279.61</td>\n",
              "      <td>12.5</td>\n",
              "      <td>5</td>\n",
              "      <td>57.0</td>\n",
              "      <td>2.0</td>\n",
              "      <td>57.0</td>\n",
              "      <td>9.0</td>\n",
              "      <td>0</td>\n",
              "      <td>0</td>\n",
              "      <td>0</td>\n",
              "      <td>1</td>\n",
              "      <td>0</td>\n",
              "      <td>0</td>\n",
              "      <td>0</td>\n",
              "      <td>0</td>\n",
              "      <td>0</td>\n",
              "      <td>0</td>\n",
              "      <td>1</td>\n",
              "      <td>0</td>\n",
              "      <td>0</td>\n",
              "      <td>0</td>\n",
              "      <td>0</td>\n",
              "      <td>0</td>\n",
              "      <td>0</td>\n",
              "      <td>0</td>\n",
              "      <td>0</td>\n",
              "      <td>0</td>\n",
              "      <td>0</td>\n",
              "      <td>0.147999</td>\n",
              "      <td>0.007124</td>\n",
              "      <td>0.000000</td>\n",
              "      <td>44.385450</td>\n",
              "      <td>0.000000</td>\n",
              "      <td>0.000000</td>\n",
              "      <td>44.533449</td>\n",
              "      <td>0.007124</td>\n",
              "      <td>0.000000</td>\n",
              "      <td>0.140574</td>\n",
              "      <td>0</td>\n",
              "    </tr>\n",
              "    <tr>\n",
              "      <th>2532</th>\n",
              "      <td>5.511454</td>\n",
              "      <td>0.000000</td>\n",
              "      <td>4.743518</td>\n",
              "      <td>3.668502</td>\n",
              "      <td>0.0</td>\n",
              "      <td>1.985382</td>\n",
              "      <td>0.116509</td>\n",
              "      <td>0.101397</td>\n",
              "      <td>40.606701</td>\n",
              "      <td>0</td>\n",
              "      <td>2.979485</td>\n",
              "      <td>12.04</td>\n",
              "      <td>12.04</td>\n",
              "      <td>1</td>\n",
              "      <td>551.99</td>\n",
              "      <td>36.0</td>\n",
              "      <td>4</td>\n",
              "      <td>38.0</td>\n",
              "      <td>9.0</td>\n",
              "      <td>38.0</td>\n",
              "      <td>2.0</td>\n",
              "      <td>0</td>\n",
              "      <td>0</td>\n",
              "      <td>0</td>\n",
              "      <td>1</td>\n",
              "      <td>0</td>\n",
              "      <td>0</td>\n",
              "      <td>0</td>\n",
              "      <td>0</td>\n",
              "      <td>0</td>\n",
              "      <td>0</td>\n",
              "      <td>1</td>\n",
              "      <td>0</td>\n",
              "      <td>1</td>\n",
              "      <td>0</td>\n",
              "      <td>0</td>\n",
              "      <td>0</td>\n",
              "      <td>0</td>\n",
              "      <td>0</td>\n",
              "      <td>0</td>\n",
              "      <td>0</td>\n",
              "      <td>0</td>\n",
              "      <td>0.125629</td>\n",
              "      <td>0.105437</td>\n",
              "      <td>0.075251</td>\n",
              "      <td>40.593123</td>\n",
              "      <td>24.355871</td>\n",
              "      <td>16.237247</td>\n",
              "      <td>40.718752</td>\n",
              "      <td>24.461308</td>\n",
              "      <td>16.312498</td>\n",
              "      <td>0.088995</td>\n",
              "      <td>0</td>\n",
              "    </tr>\n",
              "  </tbody>\n",
              "</table>\n",
              "</div>\n",
              "      <button class=\"colab-df-convert\" onclick=\"convertToInteractive('df-51e4bea4-0f44-421a-a623-408e23ecd614')\"\n",
              "              title=\"Convert this dataframe to an interactive table.\"\n",
              "              style=\"display:none;\">\n",
              "        \n",
              "  <svg xmlns=\"http://www.w3.org/2000/svg\" height=\"24px\"viewBox=\"0 0 24 24\"\n",
              "       width=\"24px\">\n",
              "    <path d=\"M0 0h24v24H0V0z\" fill=\"none\"/>\n",
              "    <path d=\"M18.56 5.44l.94 2.06.94-2.06 2.06-.94-2.06-.94-.94-2.06-.94 2.06-2.06.94zm-11 1L8.5 8.5l.94-2.06 2.06-.94-2.06-.94L8.5 2.5l-.94 2.06-2.06.94zm10 10l.94 2.06.94-2.06 2.06-.94-2.06-.94-.94-2.06-.94 2.06-2.06.94z\"/><path d=\"M17.41 7.96l-1.37-1.37c-.4-.4-.92-.59-1.43-.59-.52 0-1.04.2-1.43.59L10.3 9.45l-7.72 7.72c-.78.78-.78 2.05 0 2.83L4 21.41c.39.39.9.59 1.41.59.51 0 1.02-.2 1.41-.59l7.78-7.78 2.81-2.81c.8-.78.8-2.07 0-2.86zM5.41 20L4 18.59l7.72-7.72 1.47 1.35L5.41 20z\"/>\n",
              "  </svg>\n",
              "      </button>\n",
              "      \n",
              "  <style>\n",
              "    .colab-df-container {\n",
              "      display:flex;\n",
              "      flex-wrap:wrap;\n",
              "      gap: 12px;\n",
              "    }\n",
              "\n",
              "    .colab-df-convert {\n",
              "      background-color: #E8F0FE;\n",
              "      border: none;\n",
              "      border-radius: 50%;\n",
              "      cursor: pointer;\n",
              "      display: none;\n",
              "      fill: #1967D2;\n",
              "      height: 32px;\n",
              "      padding: 0 0 0 0;\n",
              "      width: 32px;\n",
              "    }\n",
              "\n",
              "    .colab-df-convert:hover {\n",
              "      background-color: #E2EBFA;\n",
              "      box-shadow: 0px 1px 2px rgba(60, 64, 67, 0.3), 0px 1px 3px 1px rgba(60, 64, 67, 0.15);\n",
              "      fill: #174EA6;\n",
              "    }\n",
              "\n",
              "    [theme=dark] .colab-df-convert {\n",
              "      background-color: #3B4455;\n",
              "      fill: #D2E3FC;\n",
              "    }\n",
              "\n",
              "    [theme=dark] .colab-df-convert:hover {\n",
              "      background-color: #434B5C;\n",
              "      box-shadow: 0px 1px 3px 1px rgba(0, 0, 0, 0.15);\n",
              "      filter: drop-shadow(0px 1px 2px rgba(0, 0, 0, 0.3));\n",
              "      fill: #FFFFFF;\n",
              "    }\n",
              "  </style>\n",
              "\n",
              "      <script>\n",
              "        const buttonEl =\n",
              "          document.querySelector('#df-51e4bea4-0f44-421a-a623-408e23ecd614 button.colab-df-convert');\n",
              "        buttonEl.style.display =\n",
              "          google.colab.kernel.accessAllowed ? 'block' : 'none';\n",
              "\n",
              "        async function convertToInteractive(key) {\n",
              "          const element = document.querySelector('#df-51e4bea4-0f44-421a-a623-408e23ecd614');\n",
              "          const dataTable =\n",
              "            await google.colab.kernel.invokeFunction('convertToInteractive',\n",
              "                                                     [key], {});\n",
              "          if (!dataTable) return;\n",
              "\n",
              "          const docLinkHtml = 'Like what you see? Visit the ' +\n",
              "            '<a target=\"_blank\" href=https://colab.research.google.com/notebooks/data_table.ipynb>data table notebook</a>'\n",
              "            + ' to learn more about interactive tables.';\n",
              "          element.innerHTML = '';\n",
              "          dataTable['output_type'] = 'display_data';\n",
              "          await google.colab.output.renderOutput(dataTable, element);\n",
              "          const docLink = document.createElement('div');\n",
              "          docLink.innerHTML = docLinkHtml;\n",
              "          element.appendChild(docLink);\n",
              "        }\n",
              "      </script>\n",
              "    </div>\n",
              "  </div>\n",
              "  "
            ],
            "text/plain": [
              "       cons_12m  cons_gas_12m  ...  y_test_pred  y_test\n",
              "5871   5.472865      5.225325  ...     0.027380       0\n",
              "6997   5.268058      0.000000  ...     0.072887       0\n",
              "1516   4.218850      0.000000  ...     0.114987       0\n",
              "11616  4.302374      0.000000  ...     0.140574       0\n",
              "2532   5.511454      0.000000  ...     0.088995       0\n",
              "\n",
              "[5 rows x 53 columns]"
            ]
          },
          "metadata": {},
          "execution_count": 4
        }
      ],
      "source": [
        "predictions.head()"
      ]
    },
    {
      "cell_type": "markdown",
      "metadata": {
        "id": "DM23zo40g7k5"
      },
      "source": [
        "### Calculate a baseline revenue estimate (no intervention)\n",
        "Calculate a baseline estimate of the electricity revenue for every customer for the next twelve months based on the forecast consumption and forecast price and actual churn ouotcomoe. Call this `basecase_revenue`\n",
        "\n",
        "\n",
        "- For customers who end up churning, we should reduce our forecast revenue calculation by 91.9% to account for the customers churn some time between January 2016 and the start of March 2016. (Not knowing when they churn, a reasonable assumption for the lost revenue is the average of 100%, corresponding to churn on 1 January 2016, and 83.9%, corresponding to churn at the end of February, or 59 days into a 365 day year).Call this new variable basecase_revenue_after_churn, ie basecase_revenue_after_churn = basecase_revenue * (1- 0.919 * churn)"
      ]
    },
    {
      "cell_type": "code",
      "execution_count": 5,
      "metadata": {
        "id": "Emda8IsLg7k7"
      },
      "outputs": [],
      "source": [
        "# Electricity revenue for each customer consists of energy consumption (amount * price) and the meter rent\n",
        "# The power price may also play a role, but we will ignore it for now \n",
        "# Note that we need to reverse the log10-trransformation from the data cleaning step\n",
        "predictions['basecase_revenue'] = \\\n",
        "(np.power(10, predictions['forecast_cons_12m'])+1) * predictions['forecast_price_energy_p1'] + \\\n",
        "np.power(10, predictions['forecast_meter_rent_12m']+1)"
      ]
    },
    {
      "cell_type": "code",
      "execution_count": 6,
      "metadata": {
        "id": "oanE5BlKg7k8"
      },
      "outputs": [],
      "source": [
        "# taking churn into account\n",
        "predictions['basecase_revenue_after_churn'] = predictions['basecase_revenue'] * (1 - 0.919 * predictions['y_test'])"
      ]
    },
    {
      "cell_type": "markdown",
      "metadata": {
        "id": "b40vAH3cg7k9"
      },
      "source": [
        "## Calculate the estimated benefits and costs of intervention\n",
        "Now, pick a cut-off probability (eg, 0.5) so that:\n",
        " - Customers with a higher churn probability than cut-off get a discount, and\n",
        " - Customers below the churn-probability get a discount.\n",
        "From this, calculate the revenue of the intervention scenario of this this scenario assuming:\n",
        " - All customers who are offered a discount accept it\n",
        " - Customers who do receive a discount are assumed not to churn in the next twelve months (ie churn probability = 0), and therefore the retained revenue is 0.8 * basecase_revenue, being (1 - discount_frraction) * basecase_revenue\n",
        " - Customers who do not receive a discount are assumed to churn based on the observed dependent variable (ie, a 1 or 0 for whether they actually churned or not)\n",
        " \n",
        "Now, map out the revenue delta as a function of the cut-off probability in a graph\n",
        "\n",
        "What cut-off probability approximately optimize the revenue outcome?\n",
        "\n",
        "Assume for these calculations that the customer does not cinsume more or less electricity because the price changes. (In practice, we would expect that if the customer's cost goes down then their consumption might increase.)\n",
        "\n",
        "We will see two counterbalancing effects at play:\n",
        "- For true positive we will see revenue retention vs the no-discount scenario\n",
        "- For false positive we will see reduce revenue from giving them a discount when they wouldn't in fact churn\n",
        "\n",
        "(False negative represent an opportunity cost but not an actual cost differrence between the two scenarios)\n",
        "\n",
        "The optimal cut-off point will balance the benefits from true positives against the costs of false positives.<br>\n",
        "Our task is to approximately fimd the optimal cut-off point. We many need to make additional assumptions. If we feel the assumptions above aren't justified and that others are better than we should modify our assumptions."
      ]
    },
    {
      "cell_type": "code",
      "execution_count": 7,
      "metadata": {
        "id": "7Y_I4l8zg7lA"
      },
      "outputs": [],
      "source": [
        "def get_rev_delta(pred: pd.DataFrame, cutoff: float = 0.5, discount: float = 0.2) -> float:\n",
        "    '''\n",
        "    Get the delta of revenue for offering discount for all customers with predicted churn risk >= cutoff\n",
        "    '''\n",
        "    pred['discount_revenue'] = pred['basecase_revenue_after_churn']\n",
        "    # Churn predicted => discount is given => customer stays for full year, independent of whether the prediction\n",
        "    # (false positive, 'free'/unnecessary discount given) or correct\n",
        "    pred.loc[pred['y_test_pred'] >= cutoff, 'discount_revenue'] = pred['basecase_revenue'] * (1 - discount)\n",
        "    # save tthe revenue delta for each custtomer in a separate column\n",
        "    pred['revenue_delta'] = pred['discount_revenue'] - pred['basecase_revenue_after_churn']\n",
        "    return pred['revenue_delta'].sum()"
      ]
    },
    {
      "cell_type": "code",
      "execution_count": 8,
      "metadata": {
        "id": "GpAQiJvKg7lB"
      },
      "outputs": [],
      "source": [
        "# Generate a list of possible cutoffs and the corresponding overall revenue deltas\n",
        "rev_deltas = pd.Series({cutoff: get_rev_delta(predictions, cutoff = cutoff) for cutoff in np.arange(0, 1, 0.01)})"
      ]
    },
    {
      "cell_type": "code",
      "execution_count": 9,
      "metadata": {
        "colab": {
          "base_uri": "https://localhost:8080/",
          "height": 282
        },
        "id": "A5mR_bZVg7lD",
        "outputId": "a9be02ce-9ff5-4ad3-e336-600576690342"
      },
      "outputs": [
        {
          "output_type": "display_data",
          "data": {
            "image/png": "[encoded data removed]",
            "text/plain": [
              "<Figure size 432x288 with 1 Axes>"
            ]
          },
          "metadata": {
            "needs_background": "light"
          }
        },
        {
          "output_type": "stream",
          "name": "stdout",
          "text": [
            "Maximum benefit at cutoff 0.15 with revenue delta of $206,846.04\n"
          ]
        }
      ],
      "source": [
        "def plot_tradeoff(rev_deltas: pd.Series):\n",
        "    # Plot the revenue deltas\n",
        "    rev_deltas.plot()\n",
        "    # mark optimal point\n",
        "    max_pred = rev_deltas.idxmax()\n",
        "    plt.scatter(max_pred, rev_deltas.loc[max_pred], s = 100, c = 'red')\n",
        "    # Reference line for break-even\n",
        "    plt.hlines(0, 0, 1)\n",
        "    plt.show()\n",
        "    print(f'Maximum benefit at cutoff {max_pred} with revenue delta of ${rev_deltas.loc[max_pred]:,.2f}')\n",
        "\n",
        "plot_tradeoff(rev_deltas)"
      ]
    },
    {
      "cell_type": "markdown",
      "metadata": {
        "id": "UmVipU1qg7lE"
      },
      "source": [
        "## Optional Extra: How to select the cut-off?\n",
        "Above, we decide who to offer the discount to based on the probability cut-off.\n",
        "\n",
        "In this the optimal strategy?\n",
        "- For instance, we might be offering discounts to customers who are not very profitable, thus worsening our overall margins substantially. For example, if offering a discount makes the customer unprofitable on a net margin basis then we might want to let them churn rather than save them.\n",
        "- Even if we only consider revenue, this strategy might not be optimal from a revenue viewpoint. For instance, we can calculate the expected revenue impact of our strategy and priorities customers for discounts that have a high expected revenue impact. (This means that the probability of churn might be high but they also might be valuable customers).\n",
        "\n",
        "A general principle here is that we can afford to spend moe on retaining high-value customers because the costs of losing them are higher.\n",
        "\n",
        "A very common mistake in business applications of churn is to focus on the churn probability whilst forgetting the value impact (to greater or lesswe extents). We have seen many cases where our clients spend as much as effort on retainingupprofitable customers as they do on retaining highly profitable customers."
      ]
    },
    {
      "cell_type": "code",
      "execution_count": 10,
      "metadata": {
        "id": "xCDDvfnDg7lF"
      },
      "outputs": [],
      "source": [
        "def get_rev_delta_high_value(pred: pd.DataFrame, cutoff: float = 0.5, discount: float = 0.2, min_rev: float = 500) -> float:\n",
        "    '''\n",
        "    Get the delta of revenues for ooffering discount for all customers with predicted churn risk >= cutoff and revenue\n",
        "    '''\n",
        "    pred['discount_revenue'] = pred['basecase_revenue_after_churn']\n",
        "    # churn predicted => discount is given for high-value customers => customer stays for full year, independent\n",
        "    pred.loc[(pred['y_test_pred'] >= cutoff)&(pred['basecase_revenue'] > min_rev), 'discount_revenue'] = pred['basecase_revenue'] * (1 - discount)\n",
        "    # save the revenue delta for each customer in a separate column\n",
        "    pred['revenue_delta'] = pred['discount_revenue'] - pred['basecase_revenue_after_churn']\n",
        "    return pred['revenue_delta'].sum()"
      ]
    },
    {
      "cell_type": "code",
      "execution_count": 11,
      "metadata": {
        "id": "4iv07CrEg7lG"
      },
      "outputs": [],
      "source": [
        "# generate a list of possible cutoffs and the corresponding overall revenue deltas\n",
        "rev_deltas_high_value = pd.Series({cutoff: get_rev_delta_high_value(predictions, cutoff = cutoff) for cutoff in np.arange(0, 1, 0.01)})\n"
      ]
    },
    {
      "cell_type": "code",
      "execution_count": 12,
      "metadata": {
        "colab": {
          "base_uri": "https://localhost:8080/",
          "height": 282
        },
        "id": "kZW4NGQdg7lH",
        "outputId": "488aa919-d5dd-47a4-f157-85e0aa7da87d"
      },
      "outputs": [
        {
          "output_type": "display_data",
          "data": {
            "image/png": "[encoded data removed]",
            "text/plain": [
              "<Figure size 432x288 with 1 Axes>"
            ]
          },
          "metadata": {
            "needs_background": "light"
          }
        },
        {
          "output_type": "stream",
          "name": "stdout",
          "text": [
            "Maximum benefit at cutoff 0.15 with revenue delta of $186,551.34\n"
          ]
        }
      ],
      "source": [
        "# generate a list of possible cutoffs and the corresponding overall revenue deltas\n",
        "plot_tradeoff(rev_deltas_high_value)"
      ]
    },
    {
      "cell_type": "markdown",
      "metadata": {
        "id": "DNyhrS7Lg7lI"
      },
      "source": [
        "> Note: In this case, it doesn't make sense to prioritize large-revenue customers, since the overall revenue delta is much lower than when targeting everyone. However, this is only the case here since the intervention doesn't depend on the number of customers (simply adjusting prices). The interventions usually go beyond simply adjusting prices to prevent churn. There may be the option of intensifying the customer relation, adding key account managers, or other interventions that do incur costs depending on how many customers are targeted. In that case, it may be benefitial to target only a subset of customers to save on these costs, even if the delta in the figure above is reduced."
      ]
    },
    {
      "cell_type": "markdown",
      "metadata": {
        "id": "VhNlvE9-g7lJ"
      },
      "source": [
        "## Optional Extra: Using forecast rather than actual churn\n",
        "We may have noticed above that we used actual churn outcomes in calculating the financial impact. Actual churn outcomes are fine if we know them and are conducting a retrospective analysis of the effectiveness of a strategy. This example of analysis is commonly known as 'backtesting', is seeing how well a strategy would have performed historically.\n",
        "\n",
        "(Of couorse, one must be careful that any analysis is done using out-of-sample data. Conducting the analysis on the training data will lead to predictions that are too optimistic.)\n",
        "\n",
        "In practive, actual outcomes may not be available because they are in the future. \n",
        "\n",
        "An alternative is to optimize predicted/forecast revenue based on the probabilities which are on output from our churn model. In this case, we would replace the actual churn outcomes (churn) with the predicted probabiliyt of churn from our model. The results here are obviously model-dependent.\n",
        "\n",
        "If our model probabilities are poorly calibrated then we can end up with quite poor results from this. Going down thiis path therefore usually requires the extra step of checking how well calibrated the moodel probabilities are, and potentially correcting for any miscalibrating using Platt scaling or isotonic regression.\n",
        "\n"
      ]
    },
    {
      "cell_type": "code",
      "execution_count": 13,
      "metadata": {
        "colab": {
          "base_uri": "https://localhost:8080/",
          "height": 729
        },
        "id": "j1Z6VkpGg7lK",
        "outputId": "90a5ec99-140e-42ec-f739-7aa1284885b5"
      },
      "outputs": [
        {
          "output_type": "display_data",
          "data": {
            "image/png": "[encoded data removed]",
            "text/plain": [
              "<Figure size 720x720 with 2 Axes>"
            ]
          },
          "metadata": {
            "needs_background": "light"
          }
        }
      ],
      "source": [
        "# check our calibrating\n",
        "from sklearn.calibration import calibration_curve\n",
        "\n",
        "fig = plt.figure(figsize = (10, 10))\n",
        "ax1 = plt.subplot2grid((3, 1), (0, 0), rowspan = 2)\n",
        "ax2 = plt.subplot2grid((3, 1), (2, 0))\n",
        "\n",
        "ax1.plot([0, 1], [0, 1], 'k:', label = 'Perfectly Calibrated')\n",
        "\n",
        "fraction_of_positives, mean_predicted_value = calibration_curve(y_true = predictions['y_test'],\n",
        "                                                               y_prob = predictions['y_test_pred'],\n",
        "                                                               n_bins = 10)\n",
        "\n",
        "ax1.plot(mean_predicted_value, fraction_of_positives, 's-', label = 'Our RF classifer')\n",
        "ax2.hist(predictions['y_test_pred'], range = (0, 1), bins = 10, histtype = 'step', lw = 2)\n",
        "\n",
        "ax1.set_ylabel('Fraction of positives')\n",
        "ax1.set_ylim([-0.05, 1.05])\n",
        "ax1.legend(loc='lower right')\n",
        "ax1.set_title('Calibration plots (reliability curve)')\n",
        "\n",
        "ax2.set_xlabel('Mean predicted value')\n",
        "ax2.set_ylabel('Count')\n",
        "\n",
        "plt.tight_layout()"
      ]
    },
    {
      "cell_type": "markdown",
      "metadata": {
        "id": "FHdUFpREg7lM"
      },
      "source": [
        "Calibration is OK, but not perfect - let's skip the calibration step here.<br>\n",
        "To use the predicted churn probability, we simply need to replace all 1/0 churn values with it in all calculations."
      ]
    },
    {
      "cell_type": "code",
      "execution_count": 14,
      "metadata": {
        "id": "-lI5FdgOg7lN"
      },
      "outputs": [],
      "source": [
        "# taking churn into account\n",
        "predictions['basecase_revenue_after_churn'] = predictions['basecase_revenue'] * (1 - 0.919 * predictions['y_test_pred'])"
      ]
    },
    {
      "cell_type": "code",
      "execution_count": 15,
      "metadata": {
        "id": "ols5YuU7g7lO"
      },
      "outputs": [],
      "source": [
        "def get_rev_delta(pred: pd.DataFrame, cutoff: float = 0.5, discount: float = 0.2) -> float:\n",
        "    '''\n",
        "    Get the delta of revenue for offering discount for all customers with predicted churn risk >= cutoff\n",
        "    '''\n",
        "    pred['discount_revenue'] = pred['basecase_revenue_after_churn']\n",
        "    # Churn predicted => discount is given => customer stays for full year, independent of whether the prediction\n",
        "    # (false positive, 'free'/unnecessary discount given) or correct\n",
        "    pred.loc[pred['y_test_pred'] >= cutoff, 'discount_revenue'] = pred['basecase_revenue'] * (1 - discount)\n",
        "    # save tthe revenue delta for each custtomer in a separate column\n",
        "    pred['revenue_delta'] = pred['discount_revenue'] - pred['basecase_revenue_after_churn']\n",
        "    return pred['revenue_delta'].sum()"
      ]
    },
    {
      "cell_type": "code",
      "execution_count": 16,
      "metadata": {
        "id": "aRunRWnfg7lP"
      },
      "outputs": [],
      "source": [
        "rev_deltas = pd.Series({cutoff: get_rev_delta(predictions, cutoff = cutoff) for cutoff in np.arange(0, 1, 0.01)})"
      ]
    },
    {
      "cell_type": "code",
      "execution_count": 17,
      "metadata": {
        "colab": {
          "base_uri": "https://localhost:8080/",
          "height": 282
        },
        "id": "DmjiFNEVg7lQ",
        "outputId": "0ee55643-1763-49bf-85bb-085174f7e719"
      },
      "outputs": [
        {
          "output_type": "display_data",
          "data": {
            "image/png": "[encoded data removed]",
            "text/plain": [
              "<Figure size 432x288 with 1 Axes>"
            ]
          },
          "metadata": {
            "needs_background": "light"
          }
        },
        {
          "output_type": "stream",
          "name": "stdout",
          "text": [
            "Maximum benefit at cutoff 0.22 with revenue delta of $59,680.30\n"
          ]
        }
      ],
      "source": [
        "def plot_tradeoff(rev_deltas: pd.Series):\n",
        "    # Plot the revenue deltas\n",
        "    rev_deltas.plot()\n",
        "    # mark optimal point\n",
        "    max_pred = rev_deltas.idxmax()\n",
        "    plt.scatter(max_pred, rev_deltas.loc[max_pred], s = 100, c = 'red')\n",
        "    # Reference line for break-even\n",
        "    plt.hlines(0, 0, 1)\n",
        "    plt.show()\n",
        "    print(f'Maximum benefit at cutoff {max_pred} with revenue delta of ${rev_deltas.loc[max_pred]:,.2f}')\n",
        "\n",
        "plot_tradeoff(rev_deltas)"
      ]
    },
    {
      "cell_type": "code",
      "execution_count": 17,
      "metadata": {
        "id": "IU7Ef4hYg7lR"
      },
      "outputs": [],
      "source": [
        ""
      ]
    },
    {
      "cell_type": "code",
      "execution_count": 17,
      "metadata": {
        "id": "yJiJmApwg7lS"
      },
      "outputs": [],
      "source": [
        ""
      ]
    }
  ],
  "metadata": {
    "kernelspec": {
      "display_name": "Python 3",
      "language": "python",
      "name": "python3"
    },
    "language_info": {
      "codemirror_mode": {
        "name": "ipython",
        "version": 3
      },
      "file_extension": ".py",
      "mimetype": "text/x-python",
      "name": "python",
      "nbconvert_exporter": "python",
      "pygments_lexer": "ipython3",
      "version": "3.7.4"
    },
    "colab": {
      "name": "Discount_Impact.ipynb",
      "provenance": []
    }
  },
  "nbformat": 4,
  "nbformat_minor": 0
}